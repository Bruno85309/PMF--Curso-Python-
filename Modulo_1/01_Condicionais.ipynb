{
 "cells": [
  {
   "cell_type": "markdown",
   "metadata": {},
   "source": [
    "### Condicionais IF"
   ]
  },
  {
   "cell_type": "markdown",
   "metadata": {},
   "source": [
    "1-Exercício Gerações\n",
    "\n",
    "Baby Boomers: nascidos entre 1946 e 1964. \n",
    "\n",
    "Geração X: nascidos entre 1965 e 1980.\n",
    "\n",
    "Geração Y ou Millennials: nascidos entre 1981 e 1996. \n",
    "\n",
    "Geração Z: nascidos entre 1997 e 2010. \n",
    "\n",
    "Geração Alfa: nascidos a partir de 2010. "
   ]
  },
  {
   "cell_type": "code",
   "execution_count": 1,
   "metadata": {},
   "outputs": [
    {
     "name": "stdout",
     "output_type": "stream",
     "text": [
      "Você é Gen X\n"
     ]
    }
   ],
   "source": [
    "ano = int(input(\"Em qual ano você nasceu?\"))\n",
    "\n",
    "if ano >= 1946 and ano <= 1964:\n",
    "    print(\"Você é Baby Boomer\")\n",
    "elif ano >= 1965 and ano <= 1980:\n",
    "    print(\"Você é Gen X\")\n",
    "elif ano >= 1981 and ano <= 1996:\n",
    "    print(\"Você é Gen Y\")\n",
    "elif ano >= 1997 and ano <= 2010:\n",
    "    print(\"Você é Gen Z\")\n",
    "elif ano > 2010:\n",
    "    print(\"Você é Gen Alfa\")\n",
    "else: \n",
    "    print(\"Você tem mais de 75 anos\")"
   ]
  },
  {
   "cell_type": "markdown",
   "metadata": {},
   "source": [
    "2- Exercício Compra de Ações"
   ]
  },
  {
   "cell_type": "code",
   "execution_count": 9,
   "metadata": {},
   "outputs": [
    {
     "name": "stdout",
     "output_type": "stream",
     "text": [
      "O cliente não seguiu a recomedação. Comprou LWSA3.\n"
     ]
    }
   ],
   "source": [
    "recomendacao = \"VALE3\"\n",
    "compra = \"LWSA3\"\n",
    "\n",
    "if recomendacao == compra:\n",
    "    print(\"O cliente seguiu a recomendação e agora possui VALE3 na carteira.\")\n",
    "else:\n",
    "    print(f\"O cliente não seguiu a recomendação. Comprou {compra}.\")"
   ]
  }
 ],
 "metadata": {
  "kernelspec": {
   "display_name": "Python 3",
   "language": "python",
   "name": "python3"
  },
  "language_info": {
   "codemirror_mode": {
    "name": "ipython",
    "version": 3
   },
   "file_extension": ".py",
   "mimetype": "text/x-python",
   "name": "python",
   "nbconvert_exporter": "python",
   "pygments_lexer": "ipython3",
   "version": "3.11.5"
  },
  "orig_nbformat": 4
 },
 "nbformat": 4,
 "nbformat_minor": 2
}
