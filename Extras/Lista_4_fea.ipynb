{
 "cells": [
  {
   "cell_type": "markdown",
   "metadata": {},
   "source": [
    "# FEA Dev Lista 4 - 2023"
   ]
  },
  {
   "cell_type": "code",
   "execution_count": 7,
   "metadata": {},
   "outputs": [],
   "source": [
    "import random\n",
    "import numpy as np"
   ]
  },
  {
   "cell_type": "code",
   "execution_count": 6,
   "metadata": {},
   "outputs": [
    {
     "data": {
      "text/plain": [
       "18"
      ]
     },
     "execution_count": 6,
     "metadata": {},
     "output_type": "execute_result"
    }
   ],
   "source": [
    "random.randint(0,36)"
   ]
  },
  {
   "cell_type": "code",
   "execution_count": 83,
   "metadata": {},
   "outputs": [
    {
     "name": "stdout",
     "output_type": "stream",
     "text": [
      "A bola da roleta parou no número: 16\n"
     ]
    }
   ],
   "source": [
    "def simular_roleta():\n",
    "    # Números de 0 a 36 representando a roleta\n",
    "    numeros_roleta = list(range(37))\n",
    "\n",
    "    # Gere um número aleatório para representar onde a bola parou\n",
    "    numero_sorteado = random.choice(numeros_roleta)\n",
    "\n",
    "    return numero_sorteado\n",
    "\n",
    "# Chame a função para simular a roleta\n",
    "resultado = simular_roleta()\n",
    "\n",
    "print(f\"A bola da roleta parou no número: {resultado}\")"
   ]
  },
  {
   "cell_type": "markdown",
   "metadata": {},
   "source": [
    "## QUESTÃO 1"
   ]
  },
  {
   "cell_type": "markdown",
   "metadata": {},
   "source": [
    "O verão está chegando e você já quer colocar uma caixa d´água na sua casa para usar como piscina. Na loja de materiais de construção, o atendente informa que as caixas são vendidas em relação a área que a comporta, Sabendo que você tem um espaço para uma piscina de 5 metros de raio, calcule a área do círculo, e descubra qual caixa comprar. \n",
    "\n",
    "Lembre-se de que a fórmula para calcular a área de um círculo é A = π * r^2."
   ]
  },
  {
   "cell_type": "code",
   "execution_count": 26,
   "metadata": {},
   "outputs": [],
   "source": [
    "def piscina(r):\n",
    "    area = np.pi * r**2\n",
    "    return area"
   ]
  },
  {
   "cell_type": "code",
   "execution_count": 85,
   "metadata": {},
   "outputs": [],
   "source": [
    "real = piscina(5)"
   ]
  },
  {
   "cell_type": "code",
   "execution_count": 86,
   "metadata": {},
   "outputs": [
    {
     "name": "stdout",
     "output_type": "stream",
     "text": [
      "A área da piscina circular é aproximadamente 78.54 metros quadrados.\n"
     ]
    }
   ],
   "source": [
    "print(f\"A área da piscina circular é aproximadamente {real:.2f} metros quadrados.\")"
   ]
  },
  {
   "cell_type": "markdown",
   "metadata": {},
   "source": [
    "## QUESTÃO 2"
   ]
  },
  {
   "cell_type": "markdown",
   "metadata": {},
   "source": [
    "Duvido você fazer um código que tenha como OUTPUT a data exata que você está fazendo essa questão. Vamos descobrir se você é do tipo de pessoa que aproveita o dia para fazer as tarefas ou madruga para completa-las"
   ]
  },
  {
   "cell_type": "code",
   "execution_count": 30,
   "metadata": {},
   "outputs": [],
   "source": [
    "from datetime import datetime"
   ]
  },
  {
   "cell_type": "code",
   "execution_count": 31,
   "metadata": {},
   "outputs": [],
   "source": [
    "data = datetime.now()"
   ]
  },
  {
   "cell_type": "code",
   "execution_count": 88,
   "metadata": {},
   "outputs": [
    {
     "name": "stdout",
     "output_type": "stream",
     "text": [
      "A data e hora atual são: 2023-11-17 09:15:44.094422\n"
     ]
    }
   ],
   "source": [
    "print(f'A data e hora atual são: {data}')"
   ]
  },
  {
   "cell_type": "markdown",
   "metadata": {},
   "source": [
    "## QUESTÃO 3"
   ]
  },
  {
   "cell_type": "markdown",
   "metadata": {},
   "source": [
    "Você está fazendo uma rifa beneficente para ajudar uma instituição de caridade do bairro. Está na hora de sortear quem é o grande vencedor de uma ALEXA 3º geração.\n",
    "\n",
    "Instruções:\n",
    "\n",
    "lista de nomes: nomes = [\"Alice\", \"Bob\", \"Carlos\", \"Diana\", \"Eva\",\"Henrique\", \"Isadora\", \"Leandro\", \"Patricia\",\"Julia\", \"Alex\"].\n",
    "\n",
    "Importe a biblioteca random.\n",
    "\n",
    "Use random.choice() para escolher aleatoriamente um nome da lista.\n",
    "\n",
    "Exiba o nome escolhido na tela."
   ]
  },
  {
   "cell_type": "code",
   "execution_count": 33,
   "metadata": {},
   "outputs": [],
   "source": [
    "nomes = [\"Alice\", \"Bob\", \"Carlos\", \"Diana\", \"Eva\",\"Henrique\", \"Isadora\", \"Leandro\", \"Patricia\",\"Julia\", \"Alex\"]"
   ]
  },
  {
   "cell_type": "code",
   "execution_count": 89,
   "metadata": {},
   "outputs": [],
   "source": [
    "nome_vencedor = random.choice(nomes)"
   ]
  },
  {
   "cell_type": "code",
   "execution_count": 91,
   "metadata": {},
   "outputs": [
    {
     "name": "stdout",
     "output_type": "stream",
     "text": [
      "O vencedor da ALEXA 3ª geração é: Leandro.\n"
     ]
    }
   ],
   "source": [
    "print(f\"O vencedor da ALEXA 3ª geração é: {nome_vencedor}.\")"
   ]
  },
  {
   "cell_type": "markdown",
   "metadata": {},
   "source": [
    "## QUESTÃO 4"
   ]
  },
  {
   "cell_type": "markdown",
   "metadata": {},
   "source": [
    "Os Módulos 6 e 7 abordarão Pandas, entretanto vamos aquecer!!!\n",
    "Use o Pandas para ler os dados do arquivo CSV que está anexado à lista e criar um DataFrame.\n",
    "Além disso, vizualize somente as 5 primeiras linhas."
   ]
  },
  {
   "cell_type": "code",
   "execution_count": 36,
   "metadata": {},
   "outputs": [],
   "source": [
    "import pandas as pd"
   ]
  },
  {
   "cell_type": "code",
   "execution_count": 37,
   "metadata": {},
   "outputs": [],
   "source": [
    "df = pd.read_csv('10359%2F1698688206146-books2019file.csv')"
   ]
  },
  {
   "cell_type": "code",
   "execution_count": 38,
   "metadata": {},
   "outputs": [
    {
     "data": {
      "text/html": [
       "<div>\n",
       "<style scoped>\n",
       "    .dataframe tbody tr th:only-of-type {\n",
       "        vertical-align: middle;\n",
       "    }\n",
       "\n",
       "    .dataframe tbody tr th {\n",
       "        vertical-align: top;\n",
       "    }\n",
       "\n",
       "    .dataframe thead th {\n",
       "        text-align: right;\n",
       "    }\n",
       "</style>\n",
       "<table border=\"1\" class=\"dataframe\">\n",
       "  <thead>\n",
       "    <tr style=\"text-align: right;\">\n",
       "      <th></th>\n",
       "      <th>Unnamed: 0</th>\n",
       "      <th>year</th>\n",
       "      <th>title</th>\n",
       "      <th>isBestSelling</th>\n",
       "      <th>subcategory</th>\n",
       "    </tr>\n",
       "  </thead>\n",
       "  <tbody>\n",
       "    <tr>\n",
       "      <th>0</th>\n",
       "      <td>0</td>\n",
       "      <td>2019</td>\n",
       "      <td>The Home Edit: A Guide to Organizing and Reali...</td>\n",
       "      <td>True</td>\n",
       "      <td>Do-It-Yourself Home Improvement</td>\n",
       "    </tr>\n",
       "    <tr>\n",
       "      <th>1</th>\n",
       "      <td>1</td>\n",
       "      <td>2019</td>\n",
       "      <td>How to Be an Antiracist</td>\n",
       "      <td>False</td>\n",
       "      <td>NaN</td>\n",
       "    </tr>\n",
       "    <tr>\n",
       "      <th>2</th>\n",
       "      <td>2</td>\n",
       "      <td>2019</td>\n",
       "      <td>Publication Manual of the American Psychologic...</td>\n",
       "      <td>True</td>\n",
       "      <td>Psychology</td>\n",
       "    </tr>\n",
       "    <tr>\n",
       "      <th>3</th>\n",
       "      <td>3</td>\n",
       "      <td>2019</td>\n",
       "      <td>Official SAT Study Guide 2020 Edition</td>\n",
       "      <td>True</td>\n",
       "      <td>SAT Test Guides</td>\n",
       "    </tr>\n",
       "    <tr>\n",
       "      <th>4</th>\n",
       "      <td>4</td>\n",
       "      <td>2019</td>\n",
       "      <td>The Little Old Lady Who Was Not Afraid of Anyt...</td>\n",
       "      <td>True</td>\n",
       "      <td>Children's Short Story Collections</td>\n",
       "    </tr>\n",
       "  </tbody>\n",
       "</table>\n",
       "</div>"
      ],
      "text/plain": [
       "   Unnamed: 0  year                                              title  \\\n",
       "0           0  2019  The Home Edit: A Guide to Organizing and Reali...   \n",
       "1           1  2019                            How to Be an Antiracist   \n",
       "2           2  2019  Publication Manual of the American Psychologic...   \n",
       "3           3  2019              Official SAT Study Guide 2020 Edition   \n",
       "4           4  2019  The Little Old Lady Who Was Not Afraid of Anyt...   \n",
       "\n",
       "   isBestSelling                         subcategory  \n",
       "0           True     Do-It-Yourself Home Improvement  \n",
       "1          False                                 NaN  \n",
       "2           True                          Psychology  \n",
       "3           True                     SAT Test Guides  \n",
       "4           True  Children's Short Story Collections  "
      ]
     },
     "execution_count": 38,
     "metadata": {},
     "output_type": "execute_result"
    }
   ],
   "source": [
    "df.head()"
   ]
  },
  {
   "cell_type": "markdown",
   "metadata": {},
   "source": [
    "## QUESTÃO 5"
   ]
  },
  {
   "cell_type": "markdown",
   "metadata": {},
   "source": [
    "**Numpy**"
   ]
  },
  {
   "cell_type": "markdown",
   "metadata": {},
   "source": [
    "a) Crie um array NumPy que contenha os números inteiros de 1 a 10."
   ]
  },
  {
   "cell_type": "code",
   "execution_count": 50,
   "metadata": {},
   "outputs": [
    {
     "data": {
      "text/plain": [
       "array([ 1,  2,  3,  4,  5,  6,  7,  8,  9, 10])"
      ]
     },
     "execution_count": 50,
     "metadata": {},
     "output_type": "execute_result"
    }
   ],
   "source": [
    "np.arange(start = 1, stop = 11, dtype='int')"
   ]
  },
  {
   "cell_type": "markdown",
   "metadata": {},
   "source": [
    "b)Realize operações matemáticas simples com dois arrays NumPy (1 a 5) (6 a 10) como adição, subtração, multiplicação e divisão."
   ]
  },
  {
   "cell_type": "code",
   "execution_count": 52,
   "metadata": {},
   "outputs": [],
   "source": [
    "first = np.arange(1,6)"
   ]
  },
  {
   "cell_type": "code",
   "execution_count": 54,
   "metadata": {},
   "outputs": [],
   "source": [
    "second = np.arange(6,11)"
   ]
  },
  {
   "cell_type": "code",
   "execution_count": 59,
   "metadata": {},
   "outputs": [
    {
     "data": {
      "text/plain": [
       "array([ 7,  9, 11, 13, 15])"
      ]
     },
     "execution_count": 59,
     "metadata": {},
     "output_type": "execute_result"
    }
   ],
   "source": [
    "first + second"
   ]
  },
  {
   "cell_type": "code",
   "execution_count": 60,
   "metadata": {},
   "outputs": [
    {
     "data": {
      "text/plain": [
       "array([-5, -5, -5, -5, -5])"
      ]
     },
     "execution_count": 60,
     "metadata": {},
     "output_type": "execute_result"
    }
   ],
   "source": [
    "first - second"
   ]
  },
  {
   "cell_type": "code",
   "execution_count": 63,
   "metadata": {},
   "outputs": [
    {
     "data": {
      "text/plain": [
       "array([ 6, 14, 24, 36, 50])"
      ]
     },
     "execution_count": 63,
     "metadata": {},
     "output_type": "execute_result"
    }
   ],
   "source": [
    "first * second"
   ]
  },
  {
   "cell_type": "code",
   "execution_count": 64,
   "metadata": {},
   "outputs": [
    {
     "data": {
      "text/plain": [
       "array([0.16666667, 0.28571429, 0.375     , 0.44444444, 0.5       ])"
      ]
     },
     "execution_count": 64,
     "metadata": {},
     "output_type": "execute_result"
    }
   ],
   "source": [
    "first / second"
   ]
  },
  {
   "cell_type": "markdown",
   "metadata": {},
   "source": [
    "## QUESTÃO 6"
   ]
  },
  {
   "cell_type": "markdown",
   "metadata": {},
   "source": [
    "Você é um professor e deseja avaliar o desempenho dos alunos nas provas de matemática e ciências naturais da semana. Crie duas matrizes NumPy, uma representando as notas dos alunos em Matemática e outra em Ciências, e calcule a média de cada disciplina."
   ]
  },
  {
   "cell_type": "code",
   "execution_count": 66,
   "metadata": {},
   "outputs": [],
   "source": [
    "mat = np.array([8.5, 7.2, 9.0, 6.8, 7.5])"
   ]
  },
  {
   "cell_type": "code",
   "execution_count": 68,
   "metadata": {},
   "outputs": [],
   "source": [
    "sci = np.array([9.2, 8.9, 7.8, 8.6, 9.5])"
   ]
  },
  {
   "cell_type": "code",
   "execution_count": 69,
   "metadata": {},
   "outputs": [
    {
     "name": "stdout",
     "output_type": "stream",
     "text": [
      "7.8\n"
     ]
    }
   ],
   "source": [
    "mean_mat = np.mean(mat)\n",
    "print(mean_mat)"
   ]
  },
  {
   "cell_type": "code",
   "execution_count": 70,
   "metadata": {},
   "outputs": [
    {
     "name": "stdout",
     "output_type": "stream",
     "text": [
      "8.8\n"
     ]
    }
   ],
   "source": [
    "mean_sci = np.mean(sci)\n",
    "print(mean_sci)"
   ]
  },
  {
   "cell_type": "markdown",
   "metadata": {},
   "source": [
    "## DESAFIO"
   ]
  },
  {
   "cell_type": "markdown",
   "metadata": {},
   "source": [
    "Você está organizando um evento e deseja criar um gráfico visual para mostrar a quantidade de ingressos vendidos para cada categoria. Use o Matplotlib para criar um gráfico de barras simples.\n",
    "\n",
    "Instruções:\n",
    "\n",
    "Importe a biblioteca Matplotlib.\n",
    "\n",
    "Crie duas listas: uma representando as categorias de ingressos e outra representando a quantidade de ingressos vendidos em cada categoria."
   ]
  },
  {
   "cell_type": "code",
   "execution_count": 71,
   "metadata": {},
   "outputs": [],
   "source": [
    "cat = [ 'VIP', 'Pista', 'Camarote', 'Mezanino']"
   ]
  },
  {
   "cell_type": "code",
   "execution_count": 72,
   "metadata": {},
   "outputs": [],
   "source": [
    "ingressos = [120, 250, 80, 40]"
   ]
  },
  {
   "cell_type": "code",
   "execution_count": 75,
   "metadata": {},
   "outputs": [],
   "source": [
    "import matplotlib.pyplot as plt"
   ]
  },
  {
   "cell_type": "markdown",
   "metadata": {},
   "source": [
    "Agora \n",
    "\n",
    "Crie um gráfico de barras usando a função bar() do Matplotlib para exibir as categorias no eixo x e a quantidade de ingressos vendidos no eixo y.\n",
    "\n",
    "Adicione rótulos ao eixo x e y usando xlabel() e ylabel().\n",
    "\n",
    "Defina um título para o gráfico usando title().\n",
    "\n",
    "Exiba o gráfico usando show()"
   ]
  },
  {
   "cell_type": "code",
   "execution_count": 93,
   "metadata": {},
   "outputs": [
    {
     "data": {
      "image/png": "[encoded data removed]",
      "text/plain": [
       "<Figure size 640x480 with 1 Axes>"
      ]
     },
     "metadata": {},
     "output_type": "display_data"
    }
   ],
   "source": [
    "plt.bar(x=cat, height=ingressos)\n",
    "plt.title('Quantidade de Ingressos Vendidos por Categoria')\n",
    "plt.xlabel('Categorias')\n",
    "plt.ylabel('Nº de ingressos')\n",
    "\n",
    "plt.show()"
   ]
  }
 ],
 "metadata": {
  "kernelspec": {
   "display_name": "Python 3",
   "language": "python",
   "name": "python3"
  },
  "language_info": {
   "codemirror_mode": {
    "name": "ipython",
    "version": 3
   },
   "file_extension": ".py",
   "mimetype": "text/x-python",
   "name": "python",
   "nbconvert_exporter": "python",
   "pygments_lexer": "ipython3",
   "version": "3.11.5"
  }
 },
 "nbformat": 4,
 "nbformat_minor": 2
}
