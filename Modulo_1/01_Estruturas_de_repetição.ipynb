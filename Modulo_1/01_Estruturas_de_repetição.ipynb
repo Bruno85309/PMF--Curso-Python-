{
 "cells": [
  {
   "cell_type": "markdown",
   "metadata": {},
   "source": [
    "### Loop For"
   ]
  },
  {
   "cell_type": "markdown",
   "metadata": {},
   "source": [
    "* Ex: para cada valor numa lista faça x"
   ]
  },
  {
   "cell_type": "markdown",
   "metadata": {},
   "source": [
    "1- Portfolio ações"
   ]
  },
  {
   "cell_type": "code",
   "execution_count": 15,
   "metadata": {},
   "outputs": [
    {
     "name": "stdout",
     "output_type": "stream",
     "text": [
      "LWSA3.SA\n",
      "CIEL3.SA\n",
      "PETR4.SA\n",
      "BBDC4.SA\n",
      "MRVE3.SA\n"
     ]
    }
   ],
   "source": [
    "portfolio = [\"LWSA3\", \"CIEL3\", \"PETR4\", \"BBDC4\", \"MRVE3\"]\n",
    "\n",
    "# Colocar .SA ao final de cada ação\n",
    "\n",
    "for i in portfolio:\n",
    "    print(i + \".SA\")"
   ]
  },
  {
   "cell_type": "code",
   "execution_count": 16,
   "metadata": {},
   "outputs": [
    {
     "name": "stdout",
     "output_type": "stream",
     "text": [
      "['LWSA3.SA', 'CIEL3.SA', 'PETR4.SA', 'BBDC4.SA', 'MRVE3.SA']\n"
     ]
    }
   ],
   "source": [
    "# Atualizando a lista do portfolio\n",
    "\n",
    "portfolio_02 = []\n",
    "\n",
    "for i in portfolio:\n",
    "    portfolio_02.append(i + \".SA\")\n",
    "\n",
    "print(portfolio_02)"
   ]
  },
  {
   "cell_type": "code",
   "execution_count": 17,
   "metadata": {},
   "outputs": [
    {
     "name": "stdout",
     "output_type": "stream",
     "text": [
      "LWSA3 é um papel do Ibov\n",
      "CIEL3 é um papel do Ibov\n",
      "PETR4 é um papel do Ibov\n",
      "BBDC4 é um papel do Ibov\n",
      "MRVE3 é um papel do Ibov\n"
     ]
    }
   ],
   "source": [
    "# Adicionar frase\n",
    "\n",
    "frase = \"é um papel do Ibov\"\n",
    "\n",
    "for acao in portfolio:\n",
    "    print(acao, frase)"
   ]
  },
  {
   "cell_type": "markdown",
   "metadata": {},
   "source": [
    " Função break\n"
   ]
  },
  {
   "cell_type": "code",
   "execution_count": 19,
   "metadata": {},
   "outputs": [
    {
     "name": "stdout",
     "output_type": "stream",
     "text": [
      "['LWSA3', 'CIEL3', 'PETR4', 'BBDC4', 'MRVE3', 'COCA34', 'IVVB11']\n",
      "LWSA3é um papel do Ibov\n",
      "CIEL3é um papel do Ibov\n",
      "PETR4é um papel do Ibov\n",
      "BBDC4é um papel do Ibov\n",
      "MRVE3é um papel do Ibov\n"
     ]
    }
   ],
   "source": [
    "# Dado que COCA34 E IVVB11 não são do IBOV. Mande parar quando chegar em MRVE3!!!\n",
    "\n",
    "portfolio.append(\"COCA34\")\n",
    "portfolio.append(\"IVVB11\")\n",
    "\n",
    "print(portfolio)\n",
    "\n",
    "for i in portfolio:\n",
    "    print(i + frase)\n",
    "    if i == \"MRVE3\":\n",
    "        break"
   ]
  },
  {
   "cell_type": "markdown",
   "metadata": {},
   "source": [
    "For para dicionários"
   ]
  },
  {
   "cell_type": "code",
   "execution_count": 1,
   "metadata": {},
   "outputs": [],
   "source": [
    "precos = {\"PETR4\": 32.51, \"VALE3\": 66, \"WEGE3\": 35.06}"
   ]
  },
  {
   "cell_type": "code",
   "execution_count": 3,
   "metadata": {},
   "outputs": [
    {
     "name": "stdout",
     "output_type": "stream",
     "text": [
      "dict_keys(['PETR4', 'VALE3', 'WEGE3'])\n"
     ]
    }
   ],
   "source": [
    "nome_acoes = precos.keys()\n",
    "print(nome_acoes)"
   ]
  },
  {
   "cell_type": "code",
   "execution_count": 8,
   "metadata": {},
   "outputs": [
    {
     "name": "stdout",
     "output_type": "stream",
     "text": [
      "A ação PETR4 está com o preço de 32.51\n",
      "A ação VALE3 está com o preço de 66\n",
      "A ação WEGE3 está com o preço de 35.06\n"
     ]
    }
   ],
   "source": [
    "for i in nome_acoes:\n",
    "    print(f\"A ação {i} está com o preço de {precos[i]}\")"
   ]
  },
  {
   "cell_type": "markdown",
   "metadata": {},
   "source": [
    "### Loop While"
   ]
  },
  {
   "cell_type": "markdown",
   "metadata": {},
   "source": [
    "* Enquanto tal coisa -> x"
   ]
  },
  {
   "cell_type": "code",
   "execution_count": 24,
   "metadata": {},
   "outputs": [
    {
     "name": "stdout",
     "output_type": "stream",
     "text": [
      "O valor está alto. Atualmente é de 43. Espere mais um pouco.\n",
      "O valor está alto. Atualmente é de 40.85. Espere mais um pouco.\n",
      "O valor está alto. Atualmente é de 38.81. Espere mais um pouco.\n",
      "O valor está alto. Atualmente é de 36.87. Espere mais um pouco.\n",
      "O valor está alto. Atualmente é de 35.02. Espere mais um pouco.\n",
      "Ok. O preço atual é de 33.27. Comprar!!!\n"
     ]
    }
   ],
   "source": [
    "# Ex: preço de Ação. Condição do loop roda enquanto a condição for atendida. PS: Atualizamos o preço pra representar queda.\n",
    "\n",
    "preco_prio = 43\n",
    "\n",
    "while preco_prio > 35:\n",
    "    print(f\"O valor está alto. Atualmente é de {round(preco_prio, 2)}. Espere mais um pouco.\")\n",
    "\n",
    "    preco_prio = preco_prio * 0.95\n",
    "\n",
    "else:\n",
    "    print(f\"Ok. O preço atual é de {round(preco_prio, 2)}. Comprar!!!\")"
   ]
  },
  {
   "cell_type": "code",
   "execution_count": 33,
   "metadata": {},
   "outputs": [
    {
     "name": "stdout",
     "output_type": "stream",
     "text": [
      "Limite total atingido!!!\n",
      "Você excedeu R$ 94000 do valor previsto\n"
     ]
    }
   ],
   "source": [
    "# Ex 2: Input de investimento\n",
    "\n",
    "investimento_unit = 0\n",
    "investimento_total = 0\n",
    "\n",
    "while investimento_total < 15000:\n",
    "    investimento_unit = int(input(\"Quanto você investiu?\"))\n",
    "    investimento_total = investimento_total + investimento_unit\n",
    "\n",
    "\n",
    "print(\"Limite total atingido!!!\")\n",
    "print(f\"Você excedeu R$ {investimento_total - 15000} do valor previsto\")"
   ]
  }
 ],
 "metadata": {
  "kernelspec": {
   "display_name": "Python 3",
   "language": "python",
   "name": "python3"
  },
  "language_info": {
   "codemirror_mode": {
    "name": "ipython",
    "version": 3
   },
   "file_extension": ".py",
   "mimetype": "text/x-python",
   "name": "python",
   "nbconvert_exporter": "python",
   "pygments_lexer": "ipython3",
   "version": "3.11.5"
  }
 },
 "nbformat": 4,
 "nbformat_minor": 2
}
