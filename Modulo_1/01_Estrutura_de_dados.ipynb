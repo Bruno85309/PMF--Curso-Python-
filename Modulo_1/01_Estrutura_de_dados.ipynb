{
 "cells": [
  {
   "cell_type": "markdown",
   "metadata": {},
   "source": [
    "### 6. Dicionário\n",
    "* Usa { : }\n",
    "* Composto de {key: value}\n",
    "* É mutável\n",
    "* Dá pra adicionar partes novas \n"
   ]
  },
  {
   "cell_type": "code",
   "execution_count": 2,
   "metadata": {},
   "outputs": [],
   "source": [
    "precos = {\"PETR4\": 24.49, \n",
    "            \"MGLU3\": 2.68, \n",
    "                 \"BBDC4\": 15.14}"
   ]
  },
  {
   "cell_type": "code",
   "execution_count": 4,
   "metadata": {},
   "outputs": [
    {
     "data": {
      "text/plain": [
       "dict"
      ]
     },
     "execution_count": 4,
     "metadata": {},
     "output_type": "execute_result"
    }
   ],
   "source": [
    "type(precos)"
   ]
  },
  {
   "cell_type": "markdown",
   "metadata": {},
   "source": [
    "* Vamos ver as chaves (keys) do dict"
   ]
  },
  {
   "cell_type": "code",
   "execution_count": 3,
   "metadata": {},
   "outputs": [
    {
     "data": {
      "text/plain": [
       "dict_keys(['PETR4', 'MGLU3', 'BBDC4'])"
      ]
     },
     "execution_count": 3,
     "metadata": {},
     "output_type": "execute_result"
    }
   ],
   "source": [
    "precos.keys()"
   ]
  },
  {
   "cell_type": "code",
   "execution_count": 5,
   "metadata": {},
   "outputs": [
    {
     "name": "stdout",
     "output_type": "stream",
     "text": [
      "PETR4\n"
     ]
    }
   ],
   "source": [
    "lista_das_chaves = list(precos.keys())\n",
    "\n",
    "print(lista_das_chaves[0])"
   ]
  },
  {
   "cell_type": "markdown",
   "metadata": {},
   "source": [
    "* Vamos ver os valores (values) do dict"
   ]
  },
  {
   "cell_type": "code",
   "execution_count": 11,
   "metadata": {},
   "outputs": [
    {
     "data": {
      "text/plain": [
       "dict_values([24.49, 2.68, 15.14])"
      ]
     },
     "execution_count": 11,
     "metadata": {},
     "output_type": "execute_result"
    }
   ],
   "source": [
    "precos.values()"
   ]
  },
  {
   "cell_type": "markdown",
   "metadata": {},
   "source": [
    "* Ver os pares do dict"
   ]
  },
  {
   "cell_type": "code",
   "execution_count": 14,
   "metadata": {},
   "outputs": [
    {
     "name": "stdout",
     "output_type": "stream",
     "text": [
      "dict_items([('PETR4', 24.49), ('MGLU3', 2.68), ('BBDC4', 15.14)])\n"
     ]
    }
   ],
   "source": [
    "print(precos.items())\n",
    "\n",
    "#retorna as tuplas"
   ]
  },
  {
   "cell_type": "markdown",
   "metadata": {},
   "source": [
    "* Nos dicts, nós realizamos filtros com o valor das próprias chaves !!!!!!"
   ]
  },
  {
   "cell_type": "code",
   "execution_count": 15,
   "metadata": {},
   "outputs": [
    {
     "data": {
      "text/plain": [
       "15.14"
      ]
     },
     "execution_count": 15,
     "metadata": {},
     "output_type": "execute_result"
    }
   ],
   "source": [
    "precos[\"BBDC4\"]"
   ]
  },
  {
   "cell_type": "markdown",
   "metadata": {},
   "source": [
    "* Propriedade da mutabilidade"
   ]
  },
  {
   "cell_type": "code",
   "execution_count": 6,
   "metadata": {},
   "outputs": [
    {
     "name": "stdout",
     "output_type": "stream",
     "text": [
      "{'PETR4': 25.0, 'MGLU3': 2.68, 'BBDC4': 15.14}\n"
     ]
    }
   ],
   "source": [
    "precos\n",
    "\n",
    "precos[\"PETR4\"] = 25.0\n",
    "\n",
    "print(precos)"
   ]
  },
  {
   "cell_type": "markdown",
   "metadata": {},
   "source": [
    "* Propriedade da adição"
   ]
  },
  {
   "cell_type": "code",
   "execution_count": 19,
   "metadata": {},
   "outputs": [
    {
     "name": "stdout",
     "output_type": "stream",
     "text": [
      "{'PETR4': 25.0, 'MGLU3': 2.68, 'BBDC4': 15.14, 'PRIO3': 29.78}\n"
     ]
    }
   ],
   "source": [
    "precos[\"PRIO3\"] = 29.78\n",
    "\n",
    "print(precos)"
   ]
  },
  {
   "cell_type": "markdown",
   "metadata": {},
   "source": [
    "### 7. Tuplas\n",
    "\n",
    "* Usar ( )\n",
    "* São imutáveis\n",
    "* Não permite adições"
   ]
  },
  {
   "cell_type": "code",
   "execution_count": 22,
   "metadata": {},
   "outputs": [
    {
     "name": "stdout",
     "output_type": "stream",
     "text": [
      "(10, 20, 30, 40, 50)\n"
     ]
    }
   ],
   "source": [
    "lista = [10, 20, 30, 40, 50]\n",
    "\n",
    "lista_atualizada = tuple(lista)\n",
    "\n",
    "print(lista_atualizada)"
   ]
  },
  {
   "cell_type": "code",
   "execution_count": 25,
   "metadata": {},
   "outputs": [
    {
     "ename": "TypeError",
     "evalue": "'tuple' object does not support item assignment",
     "output_type": "error",
     "traceback": [
      "\u001b[1;31m---------------------------------------------------------------------------\u001b[0m",
      "\u001b[1;31mTypeError\u001b[0m                                 Traceback (most recent call last)",
      "\u001b[1;32mc:\\Users\\brubr\\Desktop\\Jornada Python\\PMF - Módulo 1\\Módulo_1.ipynb Cell 19\u001b[0m line \u001b[0;36m1\n\u001b[1;32m----> <a href='vscode-notebook-cell:/c%3A/Users/brubr/Desktop/Jornada%20Python/PMF%20-%20M%C3%B3dulo%201/M%C3%B3dulo_1.ipynb#X31sZmlsZQ%3D%3D?line=0'>1</a>\u001b[0m lista_atualizada[\u001b[39m0\u001b[39;49m] \u001b[39m=\u001b[39m \u001b[39m20\u001b[39m\n",
      "\u001b[1;31mTypeError\u001b[0m: 'tuple' object does not support item assignment"
     ]
    }
   ],
   "source": [
    "# Tupla não da pra alterar!!! Vai dar erro!\n",
    "\n",
    "lista_atualizada[0] = 20"
   ]
  },
  {
   "cell_type": "code",
   "execution_count": 26,
   "metadata": {},
   "outputs": [],
   "source": [
    "ibov = (\"RRRP3\", \"ALSO3\", \"ALPA4\", \"ABEV3\", \"ARZZ3\", \"ASAI3\",\"AZUL4\", \"B3SA3\", \"BBSE3\", \"BBDC3\", 'BBDC4', \"BRAP4\", 'BBAS3', \"BRKM5\", \"BRFS3\", \"BPAC11\", 'CRFB3', \"BHIA3\", 'CCRO3', \"CMIG4\")"
   ]
  },
  {
   "cell_type": "code",
   "execution_count": 27,
   "metadata": {},
   "outputs": [
    {
     "data": {
      "text/plain": [
       "8"
      ]
     },
     "execution_count": 27,
     "metadata": {},
     "output_type": "execute_result"
    }
   ],
   "source": [
    "# Usar Index para ver a posição do valor na tupla\n",
    "\n",
    "ibov.index(\"BBSE3\")"
   ]
  },
  {
   "cell_type": "code",
   "execution_count": 28,
   "metadata": {},
   "outputs": [
    {
     "data": {
      "text/plain": [
       "1"
      ]
     },
     "execution_count": 28,
     "metadata": {},
     "output_type": "execute_result"
    }
   ],
   "source": [
    "# Usar count para contar valores na tupla\n",
    "\n",
    "ibov.count(\"ABEV3\")"
   ]
  },
  {
   "cell_type": "markdown",
   "metadata": {},
   "source": [
    "### 8. Conjuntos\n",
    "\n",
    "* Usa { } ou set()\n",
    "* Não permite valores repetidos\n",
    "* Não possui indexação"
   ]
  },
  {
   "cell_type": "code",
   "execution_count": 2,
   "metadata": {},
   "outputs": [],
   "source": [
    "x = {1 , 2, 4, 10}"
   ]
  },
  {
   "cell_type": "code",
   "execution_count": 3,
   "metadata": {},
   "outputs": [
    {
     "data": {
      "text/plain": [
       "set"
      ]
     },
     "execution_count": 3,
     "metadata": {},
     "output_type": "execute_result"
    }
   ],
   "source": [
    "type(x)"
   ]
  },
  {
   "cell_type": "code",
   "execution_count": 13,
   "metadata": {},
   "outputs": [
    {
     "name": "stdout",
     "output_type": "stream",
     "text": [
      "{1, 20}\n"
     ]
    }
   ],
   "source": [
    "y = {1, 20, 20, 20, 20, 20}\n",
    "print(y)"
   ]
  },
  {
   "cell_type": "code",
   "execution_count": 17,
   "metadata": {},
   "outputs": [
    {
     "name": "stdout",
     "output_type": "stream",
     "text": [
      "{100, 1, 10, 20}\n"
     ]
    }
   ],
   "source": [
    "y.add(100)\n",
    "y.add(10)\n",
    "print(y)"
   ]
  },
  {
   "cell_type": "code",
   "execution_count": 19,
   "metadata": {},
   "outputs": [
    {
     "name": "stdout",
     "output_type": "stream",
     "text": [
      "{100, 1, 10, 20}\n"
     ]
    }
   ],
   "source": [
    "# Discard remove, mas não traz um erro se não tiver o valor\n",
    "\n",
    "y.discard(500)\n",
    "print(y)"
   ]
  },
  {
   "cell_type": "code",
   "execution_count": 20,
   "metadata": {},
   "outputs": [
    {
     "ename": "KeyError",
     "evalue": "500",
     "output_type": "error",
     "traceback": [
      "\u001b[1;31m---------------------------------------------------------------------------\u001b[0m",
      "\u001b[1;31mKeyError\u001b[0m                                  Traceback (most recent call last)",
      "\u001b[1;32mc:\\Users\\brubr\\Desktop\\Jornada Python\\PMF - Módulo 1\\01_Estrutura_de_dados.ipynb Cell 29\u001b[0m line \u001b[0;36m2\n\u001b[0;32m      <a href='vscode-notebook-cell:/c%3A/Users/brubr/Desktop/Jornada%20Python/PMF%20-%20M%C3%B3dulo%201/01_Estrutura_de_dados.ipynb#X56sZmlsZQ%3D%3D?line=0'>1</a>\u001b[0m \u001b[39m# Remove ele remove, mas retorna erro se não tiver\u001b[39;00m\n\u001b[1;32m----> <a href='vscode-notebook-cell:/c%3A/Users/brubr/Desktop/Jornada%20Python/PMF%20-%20M%C3%B3dulo%201/01_Estrutura_de_dados.ipynb#X56sZmlsZQ%3D%3D?line=1'>2</a>\u001b[0m y\u001b[39m.\u001b[39;49mremove(\u001b[39m500\u001b[39;49m)\n\u001b[0;32m      <a href='vscode-notebook-cell:/c%3A/Users/brubr/Desktop/Jornada%20Python/PMF%20-%20M%C3%B3dulo%201/01_Estrutura_de_dados.ipynb#X56sZmlsZQ%3D%3D?line=2'>3</a>\u001b[0m \u001b[39mprint\u001b[39m(y)\n",
      "\u001b[1;31mKeyError\u001b[0m: 500"
     ]
    }
   ],
   "source": [
    "# Remove ele remove, mas retorna erro se não tiver\n",
    "y.remove(500)"
   ]
  },
  {
   "cell_type": "code",
   "execution_count": 21,
   "metadata": {},
   "outputs": [
    {
     "name": "stdout",
     "output_type": "stream",
     "text": [
      "{1, 100, 999, 777, 10, 20}\n"
     ]
    }
   ],
   "source": [
    "y.update([10, 999, 777])\n",
    "print(y)"
   ]
  },
  {
   "cell_type": "code",
   "execution_count": 22,
   "metadata": {},
   "outputs": [
    {
     "ename": "TypeError",
     "evalue": "'set' object is not subscriptable",
     "output_type": "error",
     "traceback": [
      "\u001b[1;31m---------------------------------------------------------------------------\u001b[0m",
      "\u001b[1;31mTypeError\u001b[0m                                 Traceback (most recent call last)",
      "\u001b[1;32mc:\\Users\\brubr\\Desktop\\Jornada Python\\PMF - Módulo 1\\01_Estrutura_de_dados.ipynb Cell 31\u001b[0m line \u001b[0;36m2\n\u001b[0;32m      <a href='vscode-notebook-cell:/c%3A/Users/brubr/Desktop/Jornada%20Python/PMF%20-%20M%C3%B3dulo%201/01_Estrutura_de_dados.ipynb#X62sZmlsZQ%3D%3D?line=0'>1</a>\u001b[0m \u001b[39m# Não possui indexação\u001b[39;00m\n\u001b[1;32m----> <a href='vscode-notebook-cell:/c%3A/Users/brubr/Desktop/Jornada%20Python/PMF%20-%20M%C3%B3dulo%201/01_Estrutura_de_dados.ipynb#X62sZmlsZQ%3D%3D?line=1'>2</a>\u001b[0m y[\u001b[39m0\u001b[39;49m]\n",
      "\u001b[1;31mTypeError\u001b[0m: 'set' object is not subscriptable"
     ]
    }
   ],
   "source": [
    "# Não possui indexação\n",
    "y[0]"
   ]
  },
  {
   "cell_type": "code",
   "execution_count": 5,
   "metadata": {},
   "outputs": [],
   "source": [
    "acoes = {\"ITUB4\", \"LREN3\", \"PETR4\", \"VALE3\", \"WEGE3\"}\n",
    "\n",
    "novas_acoes = {\"VALE3\", \"AMER3\", \"PETR4\", \"WEGE3\", \"GOAU4\"}"
   ]
  },
  {
   "cell_type": "code",
   "execution_count": 6,
   "metadata": {},
   "outputs": [
    {
     "name": "stdout",
     "output_type": "stream",
     "text": [
      "{'PETR4', 'LREN3', 'ITUB4', 'VALE3', 'WEGE3'} {'PETR4', 'AMER3', 'GOAU4', 'VALE3', 'WEGE3'}\n"
     ]
    }
   ],
   "source": [
    "print(acoes, novas_acoes)"
   ]
  },
  {
   "cell_type": "markdown",
   "metadata": {},
   "source": [
    "União -> | ou \"or\""
   ]
  },
  {
   "cell_type": "code",
   "execution_count": 8,
   "metadata": {},
   "outputs": [
    {
     "data": {
      "text/plain": [
       "{'AMER3', 'GOAU4', 'ITUB4', 'LREN3', 'PETR4', 'VALE3', 'WEGE3'}"
      ]
     },
     "execution_count": 8,
     "metadata": {},
     "output_type": "execute_result"
    }
   ],
   "source": [
    "acoes | novas_acoes"
   ]
  },
  {
   "cell_type": "markdown",
   "metadata": {},
   "source": [
    "Intersecção -> & ou \"and\""
   ]
  },
  {
   "cell_type": "code",
   "execution_count": 9,
   "metadata": {},
   "outputs": [
    {
     "data": {
      "text/plain": [
       "{'PETR4', 'VALE3', 'WEGE3'}"
      ]
     },
     "execution_count": 9,
     "metadata": {},
     "output_type": "execute_result"
    }
   ],
   "source": [
    "acoes & novas_acoes"
   ]
  },
  {
   "cell_type": "code",
   "execution_count": 10,
   "metadata": {},
   "outputs": [
    {
     "data": {
      "text/plain": [
       "{'PETR4', 'VALE3', 'WEGE3'}"
      ]
     },
     "execution_count": 10,
     "metadata": {},
     "output_type": "execute_result"
    }
   ],
   "source": [
    "acoes.intersection(novas_acoes)"
   ]
  },
  {
   "cell_type": "markdown",
   "metadata": {},
   "source": [
    "Diferença"
   ]
  },
  {
   "cell_type": "code",
   "execution_count": 11,
   "metadata": {},
   "outputs": [
    {
     "data": {
      "text/plain": [
       "{'ITUB4', 'LREN3'}"
      ]
     },
     "execution_count": 11,
     "metadata": {},
     "output_type": "execute_result"
    }
   ],
   "source": [
    "acoes.difference(novas_acoes)"
   ]
  },
  {
   "cell_type": "markdown",
   "metadata": {},
   "source": [
    "Diferença simétrica (exclui a intersecção)"
   ]
  },
  {
   "cell_type": "code",
   "execution_count": 12,
   "metadata": {},
   "outputs": [
    {
     "data": {
      "text/plain": [
       "{'AMER3', 'GOAU4', 'ITUB4', 'LREN3'}"
      ]
     },
     "execution_count": 12,
     "metadata": {},
     "output_type": "execute_result"
    }
   ],
   "source": [
    "acoes.symmetric_difference(novas_acoes)"
   ]
  },
  {
   "cell_type": "markdown",
   "metadata": {},
   "source": [
    "### List Comprehension"
   ]
  },
  {
   "cell_type": "code",
   "execution_count": 3,
   "metadata": {},
   "outputs": [],
   "source": [
    "acao_petro = \"PETR4\"\n",
    "\n",
    "lista_0 = []"
   ]
  },
  {
   "cell_type": "code",
   "execution_count": 4,
   "metadata": {},
   "outputs": [
    {
     "data": {
      "text/plain": [
       "['P', 'E', 'T', 'R', '4']"
      ]
     },
     "execution_count": 4,
     "metadata": {},
     "output_type": "execute_result"
    }
   ],
   "source": [
    "for i in acao_petro:\n",
    "    lista_0.append(i)\n",
    "\n",
    "lista_0"
   ]
  },
  {
   "cell_type": "code",
   "execution_count": 5,
   "metadata": {},
   "outputs": [
    {
     "data": {
      "text/plain": [
       "['P', 'E', 'T', 'R', '4']"
      ]
     },
     "execution_count": 5,
     "metadata": {},
     "output_type": "execute_result"
    }
   ],
   "source": [
    "# Usando a compreensão de lista\n",
    "\n",
    "[ i for i in  acao_petro]"
   ]
  },
  {
   "cell_type": "markdown",
   "metadata": {},
   "source": [
    "* Outro exemplo"
   ]
  },
  {
   "cell_type": "code",
   "execution_count": 6,
   "metadata": {},
   "outputs": [],
   "source": [
    "ativos = ['MGLU', 'VALE', 'WEGE', 'LREN']"
   ]
  },
  {
   "cell_type": "code",
   "execution_count": 7,
   "metadata": {},
   "outputs": [
    {
     "name": "stdout",
     "output_type": "stream",
     "text": [
      "['MGLU3', 'VALE3', 'WEGE3', 'LREN3']\n"
     ]
    }
   ],
   "source": [
    "# Colocar o 3 no final\n",
    "# 1ª opção:\n",
    "ativos_01 = []\n",
    "\n",
    "for i in ativos:\n",
    "    ativos_01.append(i + \"3\")\n",
    "\n",
    "print(ativos_01)"
   ]
  },
  {
   "cell_type": "code",
   "execution_count": 8,
   "metadata": {},
   "outputs": [
    {
     "data": {
      "text/plain": [
       "['MGLU3', 'VALE3', 'WEGE3', 'LREN3']"
      ]
     },
     "execution_count": 8,
     "metadata": {},
     "output_type": "execute_result"
    }
   ],
   "source": [
    "# Colocar o 3 no final\n",
    "# 2ª opção:\n",
    "\n",
    "[i + \"3\" for i in ativos]"
   ]
  },
  {
   "cell_type": "markdown",
   "metadata": {},
   "source": [
    "* Outro exercício"
   ]
  },
  {
   "cell_type": "code",
   "execution_count": 18,
   "metadata": {},
   "outputs": [
    {
     "data": {
      "text/plain": [
       "[0, 1, 4, 9, 16, 25, 36, 49, 64, 81, 100]"
      ]
     },
     "execution_count": 18,
     "metadata": {},
     "output_type": "execute_result"
    }
   ],
   "source": [
    "# Elevar números ao quadrado\n",
    "\n",
    "numeros = list(range(0,11))\n",
    "numeros \n",
    "\n",
    "numeros_02 = [i**2 for i in numeros]\n",
    "numeros_02"
   ]
  },
  {
   "cell_type": "markdown",
   "metadata": {},
   "source": [
    "* Exercício da lista de ações"
   ]
  },
  {
   "cell_type": "code",
   "execution_count": 19,
   "metadata": {},
   "outputs": [],
   "source": [
    "acoes = \"ITUB4 MGLU3 MLAS3 PRIO3 PETR4 VALE3 WEGE3 POSI3\"\n"
   ]
  },
  {
   "cell_type": "code",
   "execution_count": 21,
   "metadata": {},
   "outputs": [
    {
     "data": {
      "text/plain": [
       "['ITUB4', 'MGLU3', 'MLAS3', 'PRIO3', 'PETR4', 'VALE3', 'WEGE3', 'POSI3']"
      ]
     },
     "execution_count": 21,
     "metadata": {},
     "output_type": "execute_result"
    }
   ],
   "source": [
    "# Arrumar a string para lista\n",
    "lista_port = acoes.split()\n",
    "lista_port"
   ]
  },
  {
   "cell_type": "code",
   "execution_count": 23,
   "metadata": {},
   "outputs": [
    {
     "name": "stdout",
     "output_type": "stream",
     "text": [
      "['ITUB4.SA', 'MGLU3.SA', 'MLAS3.SA', 'PRIO3.SA', 'PETR4.SA', 'VALE3.SA', 'WEGE3.SA', 'POSI3.SA']\n"
     ]
    }
   ],
   "source": [
    "# Colocar .SA no final por causa do YFinance\n",
    "\n",
    "lista_port_yfinace = [f\"{i}.SA\" for i in lista_port]\n",
    "\n",
    "print(lista_port_yfinace)"
   ]
  },
  {
   "cell_type": "markdown",
   "metadata": {},
   "source": [
    "# Outros operadores\n"
   ]
  },
  {
   "cell_type": "markdown",
   "metadata": {},
   "source": [
    "### Range"
   ]
  },
  {
   "cell_type": "code",
   "execution_count": 5,
   "metadata": {},
   "outputs": [
    {
     "data": {
      "text/plain": [
       "[0, 1, 2, 3, 4, 5, 6, 7, 8, 9, 10, 11, 12, 13, 14, 15, 16, 17, 18, 19]"
      ]
     },
     "execution_count": 5,
     "metadata": {},
     "output_type": "execute_result"
    }
   ],
   "source": [
    "# O 1º valor está incluso na lista, mas o último não\n",
    "\n",
    "range(0, 20)\n",
    "\n",
    "list(range(0, 20))"
   ]
  },
  {
   "cell_type": "code",
   "execution_count": 6,
   "metadata": {},
   "outputs": [
    {
     "name": "stdout",
     "output_type": "stream",
     "text": [
      "0\n",
      "1\n",
      "2\n"
     ]
    }
   ],
   "source": [
    "for i in range(0,3):\n",
    "    print(i)"
   ]
  },
  {
   "cell_type": "code",
   "execution_count": 8,
   "metadata": {},
   "outputs": [],
   "source": [
    "papeis = [\"BRKM5\", \"BRFS3\", \"ITUB4\", \"LWSA4\"]"
   ]
  },
  {
   "cell_type": "code",
   "execution_count": 9,
   "metadata": {},
   "outputs": [
    {
     "name": "stdout",
     "output_type": "stream",
     "text": [
      "0\n",
      "1\n",
      "2\n",
      "3\n"
     ]
    }
   ],
   "source": [
    "len(papeis)\n",
    "\n",
    "for i in range(0, len(papeis)):\n",
    "    print(i)"
   ]
  },
  {
   "cell_type": "markdown",
   "metadata": {},
   "source": [
    "### Enumerate"
   ]
  },
  {
   "cell_type": "code",
   "execution_count": 10,
   "metadata": {},
   "outputs": [
    {
     "data": {
      "text/plain": [
       "<enumerate at 0x1b9aad218f0>"
      ]
     },
     "execution_count": 10,
     "metadata": {},
     "output_type": "execute_result"
    }
   ],
   "source": [
    "enumerate(papeis)"
   ]
  },
  {
   "cell_type": "code",
   "execution_count": 9,
   "metadata": {},
   "outputs": [],
   "source": [
    "lista_enumerada = list(enumerate(papeis))"
   ]
  },
  {
   "cell_type": "code",
   "execution_count": 10,
   "metadata": {},
   "outputs": [
    {
     "data": {
      "text/plain": [
       "(0, 'BRKM5')"
      ]
     },
     "execution_count": 10,
     "metadata": {},
     "output_type": "execute_result"
    }
   ],
   "source": [
    "# Enumera e deixa como uma tupla\n",
    "\n",
    "lista_enumerada[0]"
   ]
  },
  {
   "cell_type": "code",
   "execution_count": 11,
   "metadata": {},
   "outputs": [
    {
     "name": "stdout",
     "output_type": "stream",
     "text": [
      "BRKM5\n"
     ]
    }
   ],
   "source": [
    "print(lista_enumerada[0][1])"
   ]
  },
  {
   "cell_type": "code",
   "execution_count": 12,
   "metadata": {},
   "outputs": [
    {
     "data": {
      "text/plain": [
       "[(0, 'I'), (1, 'T'), (2, 'U'), (3, 'B'), (4, '4')]"
      ]
     },
     "execution_count": 12,
     "metadata": {},
     "output_type": "execute_result"
    }
   ],
   "source": [
    "acao = \"ITUB4\"\n",
    "\n",
    "lista_caract = list(enumerate(acao))\n",
    "\n",
    "lista_caract"
   ]
  },
  {
   "cell_type": "code",
   "execution_count": 21,
   "metadata": {},
   "outputs": [
    {
     "name": "stdout",
     "output_type": "stream",
     "text": [
      "No índice 0 o caractere é I.\n"
     ]
    }
   ],
   "source": [
    "print(f\"No índice {lista_caract[0][0]} o caractere é {lista_caract[0][1]}.\")"
   ]
  },
  {
   "cell_type": "code",
   "execution_count": 28,
   "metadata": {},
   "outputs": [
    {
     "name": "stdout",
     "output_type": "stream",
     "text": [
      "No índice 0 o caractere é I.\n",
      "No índice 1 o caractere é T.\n",
      "No índice 2 o caractere é U.\n",
      "No índice 3 o caractere é B.\n",
      "No índice 4 o caractere é 4.\n"
     ]
    }
   ],
   "source": [
    "for i in range(0, len(lista_caract)):\n",
    "    print(f\"No índice {lista_caract[i][0]} o caractere é {lista_caract[i][1]}.\")"
   ]
  },
  {
   "cell_type": "code",
   "execution_count": 13,
   "metadata": {},
   "outputs": [
    {
     "name": "stdout",
     "output_type": "stream",
     "text": [
      "No índice 0 o caractere é I.\n",
      "No índice 1 o caractere é T.\n",
      "No índice 2 o caractere é U.\n",
      "No índice 3 o caractere é B.\n",
      "No índice 4 o caractere é 4.\n"
     ]
    }
   ],
   "source": [
    "# Fazendo usando o enumerate\n",
    "\n",
    "for i, j in enumerate(acao):\n",
    "     print(f\"No índice {i} o caractere é {j}.\")"
   ]
  },
  {
   "cell_type": "markdown",
   "metadata": {},
   "source": [
    "### Zip"
   ]
  },
  {
   "cell_type": "code",
   "execution_count": 30,
   "metadata": {},
   "outputs": [],
   "source": [
    "acoes = ['PETR4', 'WEGE3', 'MGLU3', 'JHSF3', 'GOAU4']\n",
    "setores = ['Petróleo', 'Motores', 'Varejo', 'Construção', 'Metalurgia']"
   ]
  },
  {
   "cell_type": "code",
   "execution_count": 31,
   "metadata": {},
   "outputs": [
    {
     "data": {
      "text/plain": [
       "<zip at 0x1b9aad31000>"
      ]
     },
     "execution_count": 31,
     "metadata": {},
     "output_type": "execute_result"
    }
   ],
   "source": [
    "zip(acoes, setores)"
   ]
  },
  {
   "cell_type": "code",
   "execution_count": 43,
   "metadata": {},
   "outputs": [
    {
     "data": {
      "text/plain": [
       "[('PETR4', 'Petróleo'),\n",
       " ('WEGE3', 'Motores'),\n",
       " ('MGLU3', 'Varejo'),\n",
       " ('JHSF3', 'Construção'),\n",
       " ('GOAU4', 'Metalurgia')]"
      ]
     },
     "execution_count": 43,
     "metadata": {},
     "output_type": "execute_result"
    }
   ],
   "source": [
    "# Criando uma lista de tuplas com o zip\n",
    "\n",
    "list(zip(acoes, setores))\n",
    "lista_setores = list(zip(acoes, setores))\n",
    "\n",
    "lista_setores"
   ]
  },
  {
   "cell_type": "code",
   "execution_count": 42,
   "metadata": {},
   "outputs": [
    {
     "name": "stdout",
     "output_type": "stream",
     "text": [
      "A ação PETR4 pertence ao setor de Petróleo.\n",
      "A ação WEGE3 pertence ao setor de Motores.\n",
      "A ação MGLU3 pertence ao setor de Varejo.\n",
      "A ação JHSF3 pertence ao setor de Construção.\n",
      "A ação GOAU4 pertence ao setor de Metalurgia.\n"
     ]
    }
   ],
   "source": [
    "for i, j in lista_setores:\n",
    "    print(f\"A ação {i} pertence ao setor de {j}.\")"
   ]
  },
  {
   "cell_type": "markdown",
   "metadata": {},
   "source": [
    "### Random\n"
   ]
  },
  {
   "cell_type": "code",
   "execution_count": 44,
   "metadata": {},
   "outputs": [],
   "source": [
    "# Importa toda a biblioteca ou só os módulos específicos \n",
    "\n",
    "import random"
   ]
  },
  {
   "cell_type": "code",
   "execution_count": 55,
   "metadata": {},
   "outputs": [
    {
     "data": {
      "text/plain": [
       "8"
      ]
     },
     "execution_count": 55,
     "metadata": {},
     "output_type": "execute_result"
    }
   ],
   "source": [
    "# Randit fornecesse números aleatórios num intervalo\n",
    "\n",
    "random.randint(0, 10)"
   ]
  },
  {
   "cell_type": "code",
   "execution_count": 58,
   "metadata": {},
   "outputs": [],
   "source": [
    "lista_random = []\n",
    "\n",
    "for x in range(0,10):\n",
    "    lista_random.append(random.randint(0, 100))"
   ]
  },
  {
   "cell_type": "code",
   "execution_count": 59,
   "metadata": {},
   "outputs": [
    {
     "data": {
      "text/plain": [
       "[75, 39, 1, 17, 93, 16, 89, 88, 51, 47]"
      ]
     },
     "execution_count": 59,
     "metadata": {},
     "output_type": "execute_result"
    }
   ],
   "source": [
    "lista_random"
   ]
  },
  {
   "cell_type": "code",
   "execution_count": 61,
   "metadata": {},
   "outputs": [
    {
     "data": {
      "text/plain": [
       "[51, 17, 75, 16, 39, 47, 1, 93, 89, 88]"
      ]
     },
     "execution_count": 61,
     "metadata": {},
     "output_type": "execute_result"
    }
   ],
   "source": [
    "# Suffle mistura os valores\n",
    "\n",
    "random.shuffle(lista_random)\n",
    "lista_random"
   ]
  },
  {
   "cell_type": "code",
   "execution_count": 66,
   "metadata": {},
   "outputs": [
    {
     "name": "stdout",
     "output_type": "stream",
     "text": [
      "1\n",
      "93\n"
     ]
    }
   ],
   "source": [
    "# Mín e Máx\n",
    "\n",
    "print(min(lista_random))\n",
    "\n",
    "print(max(lista_random))"
   ]
  }
 ],
 "metadata": {
  "kernelspec": {
   "display_name": "Python 3",
   "language": "python",
   "name": "python3"
  },
  "language_info": {
   "codemirror_mode": {
    "name": "ipython",
    "version": 3
   },
   "file_extension": ".py",
   "mimetype": "text/x-python",
   "name": "python",
   "nbconvert_exporter": "python",
   "pygments_lexer": "ipython3",
   "version": "3.11.5"
  },
  "orig_nbformat": 4
 },
 "nbformat": 4,
 "nbformat_minor": 2
}
