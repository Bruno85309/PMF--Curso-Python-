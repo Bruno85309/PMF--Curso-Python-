{
 "cells": [
  {
   "cell_type": "markdown",
   "metadata": {},
   "source": [
    "# Funções\n",
    "* Precisa usar def para definir\n",
    "\n",
    "Estrutura: def name (arguments):\n"
   ]
  },
  {
   "cell_type": "code",
   "execution_count": 13,
   "metadata": {},
   "outputs": [],
   "source": [
    "#1 - Fazer função CAPM\n",
    "\n",
    "def CAPM(r_f, r_m, beta):\n",
    "    r_e = int(r_f) + int(beta*(r_m - r_f))\n",
    "    print(f\"O retorno exigido dados os valores oferecidos é de {r_e}\")"
   ]
  },
  {
   "cell_type": "code",
   "execution_count": 14,
   "metadata": {},
   "outputs": [
    {
     "name": "stdout",
     "output_type": "stream",
     "text": [
      "O retorno exigido dados os valores oferecidos é de 5\n"
     ]
    }
   ],
   "source": [
    "CAPM(5, 5, 2)"
   ]
  },
  {
   "cell_type": "code",
   "execution_count": 7,
   "metadata": {},
   "outputs": [],
   "source": [
    "#2 - Fazer função soma\n",
    "\n",
    "\n",
    "def soma(a, b):\n",
    "    x = a + b\n",
    "    print(x)"
   ]
  },
  {
   "cell_type": "code",
   "execution_count": 8,
   "metadata": {},
   "outputs": [
    {
     "name": "stdout",
     "output_type": "stream",
     "text": [
      "40\n"
     ]
    }
   ],
   "source": [
    "soma(10, 30)"
   ]
  },
  {
   "cell_type": "code",
   "execution_count": 23,
   "metadata": {},
   "outputs": [],
   "source": [
    "# 3 - Fazer função que chama preço de uma ação (de forma manual)\n",
    "\n",
    "def preco(acao):\n",
    "    if acao == \"PETR4\":\n",
    "        print(f\"O preço de {acao} é R$ 32,82.\")\n",
    "    elif acao == \"BBAS3\":\n",
    "        print(f\"O preço de {acao} é R$ 47,54.\")\n",
    "    elif acao == \"YDUQ3\":\n",
    "        print(f\"O preço de {acao} é R$ 19,49.\")\n",
    "    elif acao == \"MGLU3\":\n",
    "        print(f\"O preço de {acao} é R$ 1,70.\")\n",
    "    elif acao == \"CVCB3\":\n",
    "        print(f\"O preço de {acao} é R$ 2,54.\")\n",
    "    else:\n",
    "        print(f'{acao} não está ainda no nosso banco de dados. Aguarde.')\n",
    "    "
   ]
  },
  {
   "cell_type": "code",
   "execution_count": 24,
   "metadata": {},
   "outputs": [
    {
     "name": "stdout",
     "output_type": "stream",
     "text": [
      "ITUB4 não está ainda no nosso banco de dados. Aguarde.\n"
     ]
    }
   ],
   "source": [
    "preco(\"ITUB4\")"
   ]
  },
  {
   "cell_type": "code",
   "execution_count": 25,
   "metadata": {},
   "outputs": [
    {
     "name": "stdout",
     "output_type": "stream",
     "text": [
      "O preço de PETR4 é R$ 32,82.\n"
     ]
    }
   ],
   "source": [
    "preco(\"PETR4\")"
   ]
  },
  {
   "cell_type": "markdown",
   "metadata": {},
   "source": [
    "__Docstring__\n",
    "\n",
    "* É a parte que descreve uma função. Ver exemplo abaixo!!!"
   ]
  },
  {
   "cell_type": "code",
   "execution_count": 27,
   "metadata": {},
   "outputs": [],
   "source": [
    "def preco(acao):\n",
    "\n",
    "    \"\"\" ESSA FUNÇÃO VAI RETORNAR O VALOR DA AÇÃO QUE VOCÊ SELECIONAR \"\"\"\n",
    "\n",
    "\n",
    "    if acao == \"PETR4\":\n",
    "        print(f\"O preço de {acao} é R$ 32,82.\")\n",
    "    elif acao == \"BBAS3\":\n",
    "        print(f\"O preço de {acao} é R$ 47,54.\")\n",
    "    elif acao == \"YDUQ3\":\n",
    "        print(f\"O preço de {acao} é R$ 19,49.\")\n",
    "    elif acao == \"MGLU3\":\n",
    "        print(f\"O preço de {acao} é R$ 1,70.\")\n",
    "    elif acao == \"CVCB3\":\n",
    "        print(f\"O preço de {acao} é R$ 2,54.\")\n",
    "    else:\n",
    "        print(f'{acao} não está ainda no nosso banco de dados. Aguarde.')\n",
    "    "
   ]
  },
  {
   "cell_type": "code",
   "execution_count": null,
   "metadata": {},
   "outputs": [],
   "source": [
    "preco()"
   ]
  },
  {
   "cell_type": "markdown",
   "metadata": {},
   "source": [
    "# Métodos"
   ]
  },
  {
   "cell_type": "markdown",
   "metadata": {},
   "source": [
    "* Todo método é uma função, mas nem toda função tem um método!!!\n",
    "\n",
    "* Nem toda função gera impacto nas variáveis. Há diferença entre local e global!!!\n"
   ]
  },
  {
   "cell_type": "code",
   "execution_count": 32,
   "metadata": {},
   "outputs": [
    {
     "data": {
      "text/plain": [
       "[5, 10, 15, 20, 25]"
      ]
     },
     "execution_count": 32,
     "metadata": {},
     "output_type": "execute_result"
    }
   ],
   "source": [
    "#Ex: Método append() que tem nas listas\n",
    "\n",
    "lista = [5, 10, 15, 20]\n",
    "\n",
    "lista.append(25)\n",
    "lista"
   ]
  },
  {
   "cell_type": "code",
   "execution_count": 33,
   "metadata": {},
   "outputs": [
    {
     "data": {
      "text/plain": [
       "[5, 10, 15, 20]"
      ]
     },
     "execution_count": 33,
     "metadata": {},
     "output_type": "execute_result"
    }
   ],
   "source": [
    "#Ex: Método pop() que tem nas listas\n",
    "\n",
    "lista.pop()\n",
    "lista"
   ]
  },
  {
   "cell_type": "code",
   "execution_count": 39,
   "metadata": {},
   "outputs": [
    {
     "name": "stdout",
     "output_type": "stream",
     "text": [
      "['Divida', 'está', 'frase', 'usando', 'split']\n",
      "DIVIDA ESTÁ FRASE USANDO SPLIT\n",
      "divida está frase usando split\n"
     ]
    }
   ],
   "source": [
    "#Ex: Método .split() .upper() .lower()\n",
    "\n",
    "x = \"Divida está frase usando split\"\n",
    "\n",
    "print(x.split())\n",
    "print(x.upper())\n",
    "print(x.lower())"
   ]
  },
  {
   "cell_type": "markdown",
   "metadata": {},
   "source": [
    "# Função Map"
   ]
  },
  {
   "cell_type": "markdown",
   "metadata": {},
   "source": [
    "Facilita trabalhar funções junto de listas"
   ]
  },
  {
   "cell_type": "code",
   "execution_count": 1,
   "metadata": {},
   "outputs": [],
   "source": [
    "def potencia(valor):\n",
    "    return valor**2"
   ]
  },
  {
   "cell_type": "code",
   "execution_count": 2,
   "metadata": {},
   "outputs": [
    {
     "data": {
      "text/plain": [
       "4"
      ]
     },
     "execution_count": 2,
     "metadata": {},
     "output_type": "execute_result"
    }
   ],
   "source": [
    "potencia(2)"
   ]
  },
  {
   "cell_type": "code",
   "execution_count": 3,
   "metadata": {},
   "outputs": [
    {
     "data": {
      "text/plain": [
       "100"
      ]
     },
     "execution_count": 3,
     "metadata": {},
     "output_type": "execute_result"
    }
   ],
   "source": [
    "potencia(10)"
   ]
  },
  {
   "cell_type": "code",
   "execution_count": 5,
   "metadata": {},
   "outputs": [
    {
     "data": {
      "text/plain": [
       "[0, 1, 4, 9, 16, 25, 36, 49, 64, 81, 100]"
      ]
     },
     "execution_count": 5,
     "metadata": {},
     "output_type": "execute_result"
    }
   ],
   "source": [
    "lista = [0, 1, 2, 3, 4, 5, 6, 7, 8, 9, 10]\n",
    "\n",
    "# Fazer elevar os valores ao quadrado, mas sem usar for e tendo que usar a função\n",
    "\n",
    "map(potencia, lista)\n",
    "\n",
    "list(map(potencia, lista))"
   ]
  },
  {
   "cell_type": "markdown",
   "metadata": {},
   "source": [
    "2 - Aumentar o valor dos preços em 10%"
   ]
  },
  {
   "cell_type": "code",
   "execution_count": 10,
   "metadata": {},
   "outputs": [
    {
     "data": {
      "text/plain": [
       "[110.0, 94.57, 82.33]"
      ]
     },
     "execution_count": 10,
     "metadata": {},
     "output_type": "execute_result"
    }
   ],
   "source": [
    "precos = [100, 85.97, 74.85]\n",
    "\n",
    "def funcao_aumento (valor):\n",
    "    return round(valor*1.1, 2)\n",
    "\n",
    "list(map(funcao_aumento, precos))"
   ]
  },
  {
   "cell_type": "markdown",
   "metadata": {},
   "source": [
    "3 -  Colocar .SA no final do ticker das ações"
   ]
  },
  {
   "cell_type": "code",
   "execution_count": 11,
   "metadata": {},
   "outputs": [],
   "source": [
    "def atualiza (valor):\n",
    "    return f\"{valor}.SA\""
   ]
  },
  {
   "cell_type": "code",
   "execution_count": 13,
   "metadata": {},
   "outputs": [
    {
     "data": {
      "text/plain": [
       "'ITUB3.SA'"
      ]
     },
     "execution_count": 13,
     "metadata": {},
     "output_type": "execute_result"
    }
   ],
   "source": [
    "atualiza(\"ITUB3\")"
   ]
  },
  {
   "cell_type": "code",
   "execution_count": 14,
   "metadata": {},
   "outputs": [
    {
     "data": {
      "text/plain": [
       "['VALE3.SA', 'MGLU3.SA', 'LREN3.SA', 'ABEV3.SA']"
      ]
     },
     "execution_count": 14,
     "metadata": {},
     "output_type": "execute_result"
    }
   ],
   "source": [
    "lista_acoes = [\"VALE3\", \"MGLU3\", \"LREN3\", \"ABEV3\"]\n",
    "\n",
    "list(map(atualiza, lista_acoes))"
   ]
  },
  {
   "cell_type": "markdown",
   "metadata": {},
   "source": [
    "# Função Filter"
   ]
  },
  {
   "cell_type": "markdown",
   "metadata": {},
   "source": [
    "1 - Verificar número par"
   ]
  },
  {
   "cell_type": "code",
   "execution_count": 15,
   "metadata": {},
   "outputs": [],
   "source": [
    "def verifica_par(numero):\n",
    "    return numero % 2 == 0"
   ]
  },
  {
   "cell_type": "code",
   "execution_count": 17,
   "metadata": {},
   "outputs": [
    {
     "data": {
      "text/plain": [
       "True"
      ]
     },
     "execution_count": 17,
     "metadata": {},
     "output_type": "execute_result"
    }
   ],
   "source": [
    "verifica_par(10)"
   ]
  },
  {
   "cell_type": "code",
   "execution_count": 20,
   "metadata": {},
   "outputs": [],
   "source": [
    "lista = [3, 6, 9, 12, 15, 18, 21]"
   ]
  },
  {
   "cell_type": "code",
   "execution_count": 21,
   "metadata": {},
   "outputs": [
    {
     "data": {
      "text/plain": [
       "[6, 12, 18]"
      ]
     },
     "execution_count": 21,
     "metadata": {},
     "output_type": "execute_result"
    }
   ],
   "source": [
    "list(filter(verifica_par,lista))"
   ]
  },
  {
   "cell_type": "markdown",
   "metadata": {},
   "source": [
    "2- Verificar se pertence ao IBOV"
   ]
  },
  {
   "cell_type": "code",
   "execution_count": 22,
   "metadata": {},
   "outputs": [],
   "source": [
    "ibov = ['ABEV3', 'PETR4', 'VALE3', 'BBDC4', 'ITUB4']\n",
    "lista_papeis = ['ORVR3', 'ABEV3', 'BAUH4', 'JOPA3', 'JALL3', 'ITUB4']"
   ]
  },
  {
   "cell_type": "code",
   "execution_count": 23,
   "metadata": {},
   "outputs": [],
   "source": [
    "def verifica_ibov(valor):\n",
    "    ibov = ['ABEV3', 'PETR4', 'VALE3', 'BBDC4', 'ITUB4']\n",
    "    return valor in ibov"
   ]
  },
  {
   "cell_type": "code",
   "execution_count": 24,
   "metadata": {},
   "outputs": [
    {
     "data": {
      "text/plain": [
       "True"
      ]
     },
     "execution_count": 24,
     "metadata": {},
     "output_type": "execute_result"
    }
   ],
   "source": [
    "verifica_ibov(\"ABEV3\")"
   ]
  },
  {
   "cell_type": "code",
   "execution_count": 26,
   "metadata": {},
   "outputs": [
    {
     "data": {
      "text/plain": [
       "['ABEV3', 'ITUB4']"
      ]
     },
     "execution_count": 26,
     "metadata": {},
     "output_type": "execute_result"
    }
   ],
   "source": [
    "list(filter(verifica_ibov, lista_papeis))"
   ]
  },
  {
   "cell_type": "markdown",
   "metadata": {},
   "source": [
    "# Função Lambda\n"
   ]
  },
  {
   "cell_type": "code",
   "execution_count": 1,
   "metadata": {},
   "outputs": [],
   "source": [
    "quadrado = lambda valor: valor**2"
   ]
  },
  {
   "cell_type": "code",
   "execution_count": 4,
   "metadata": {},
   "outputs": [
    {
     "data": {
      "text/plain": [
       "25"
      ]
     },
     "execution_count": 4,
     "metadata": {},
     "output_type": "execute_result"
    }
   ],
   "source": [
    "quadrado(5)"
   ]
  },
  {
   "cell_type": "markdown",
   "metadata": {},
   "source": [
    "Ex. 1- Colocar 3 no final da lista de ativos"
   ]
  },
  {
   "cell_type": "code",
   "execution_count": 11,
   "metadata": {},
   "outputs": [],
   "source": [
    "lista_ativos = \"WEGE MGLU VALE PRIO\""
   ]
  },
  {
   "cell_type": "code",
   "execution_count": 13,
   "metadata": {},
   "outputs": [
    {
     "name": "stdout",
     "output_type": "stream",
     "text": [
      "['WEGE', 'MGLU', 'VALE', 'PRIO']\n"
     ]
    }
   ],
   "source": [
    "lista_atualizada = lista_ativos.split()\n",
    "print(lista_atualizada)"
   ]
  },
  {
   "cell_type": "code",
   "execution_count": 14,
   "metadata": {},
   "outputs": [
    {
     "data": {
      "text/plain": [
       "'SUZB3'"
      ]
     },
     "execution_count": 14,
     "metadata": {},
     "output_type": "execute_result"
    }
   ],
   "source": [
    "transforma_ticker = lambda ticker: ticker + \"3\"\n",
    "transforma_ticker(\"SUZB\")"
   ]
  },
  {
   "cell_type": "code",
   "execution_count": 17,
   "metadata": {},
   "outputs": [
    {
     "data": {
      "text/plain": [
       "['WEGE3', 'MGLU3', 'VALE3', 'PRIO3']"
      ]
     },
     "execution_count": 17,
     "metadata": {},
     "output_type": "execute_result"
    }
   ],
   "source": [
    "list(map(transforma_ticker, lista_atualizada))  "
   ]
  },
  {
   "cell_type": "markdown",
   "metadata": {},
   "source": [
    "Ex.2 - Fazer exercício da potência usando função lambda"
   ]
  },
  {
   "cell_type": "code",
   "execution_count": 18,
   "metadata": {},
   "outputs": [],
   "source": [
    "lista_numeros = [4, 8, 12, 16, 20, 24, 28, 32, 9, 5, 3, 13, 17, 19]"
   ]
  },
  {
   "cell_type": "code",
   "execution_count": 19,
   "metadata": {},
   "outputs": [
    {
     "data": {
      "text/plain": [
       "[16, 64, 144, 256, 400, 576, 784, 1024, 81, 25, 9, 169, 289, 361]"
      ]
     },
     "execution_count": 19,
     "metadata": {},
     "output_type": "execute_result"
    }
   ],
   "source": [
    "# 1º método: Criando função\n",
    "\n",
    "quadrado = lambda valor: valor**2\n",
    "\n",
    "list(map(quadrado, lista_numeros))"
   ]
  },
  {
   "cell_type": "code",
   "execution_count": 20,
   "metadata": {},
   "outputs": [
    {
     "data": {
      "text/plain": [
       "[16, 64, 144, 256, 400, 576, 784, 1024, 81, 25, 9, 169, 289, 361]"
      ]
     },
     "execution_count": 20,
     "metadata": {},
     "output_type": "execute_result"
    }
   ],
   "source": [
    "# 2º método: Direto da função map\n",
    "\n",
    "list(map(lambda valor: valor**2, lista_numeros))"
   ]
  },
  {
   "cell_type": "markdown",
   "metadata": {},
   "source": [
    "# Args & Kwargs"
   ]
  },
  {
   "cell_type": "markdown",
   "metadata": {},
   "source": [
    "* Args retornam tuplas que serão usadas nas funções\n",
    "* O asterisco \"*\" é para o Unpacking operator"
   ]
  },
  {
   "cell_type": "code",
   "execution_count": 26,
   "metadata": {},
   "outputs": [
    {
     "data": {
      "text/plain": [
       "16"
      ]
     },
     "execution_count": 26,
     "metadata": {},
     "output_type": "execute_result"
    }
   ],
   "source": [
    "# 1 - Soma de valores\n",
    "\n",
    "# Forma limitada\n",
    "\n",
    "def soma(a,b,c):\n",
    "    soma_valores = sum((a, b, c))\n",
    "    return soma_valores\n",
    "\n",
    "soma(2, 4, 10)"
   ]
  },
  {
   "cell_type": "markdown",
   "metadata": {},
   "source": [
    "-> Porém, se colocarmos mais ou menos do que 3 valores na função acima teremos erro. Pois foi definida com (a,b,c)"
   ]
  },
  {
   "cell_type": "code",
   "execution_count": 30,
   "metadata": {},
   "outputs": [
    {
     "name": "stdout",
     "output_type": "stream",
     "text": [
      "996\n",
      "35.5\n"
     ]
    }
   ],
   "source": [
    "# Forma com args\n",
    "\n",
    "def soma_nova(*args):\n",
    "    soma_valores = sum(args)\n",
    "    return soma_valores\n",
    "\n",
    "print(soma_nova(10,20,30,40,896))\n",
    "print(soma_nova(30,5.5))"
   ]
  },
  {
   "cell_type": "markdown",
   "metadata": {},
   "source": [
    "* Kwargs vão aparecer com dict\n",
    "* Kwargs são \"keywords arguments\"\n",
    "* Tem que usar \"**\"\n",
    "\n"
   ]
  },
  {
   "cell_type": "code",
   "execution_count": 37,
   "metadata": {},
   "outputs": [],
   "source": [
    "def compra_acoes(**kwargs):\n",
    "  print(f\"O cliente comprou o papel {kwargs['acao']}.\")"
   ]
  },
  {
   "cell_type": "code",
   "execution_count": 38,
   "metadata": {},
   "outputs": [
    {
     "name": "stdout",
     "output_type": "stream",
     "text": [
      "O cliente comprou o papel PETR4.\n"
     ]
    }
   ],
   "source": [
    "compra_acoes(acao = \"PETR4\")"
   ]
  },
  {
   "cell_type": "code",
   "execution_count": 42,
   "metadata": {},
   "outputs": [],
   "source": [
    "def compra_acoes(**kwargs):\n",
    "  print(f\"O cliente comprou o papel {kwargs['acao']} com a quantia de {kwargs['quantidade']}.\")"
   ]
  },
  {
   "cell_type": "code",
   "execution_count": 43,
   "metadata": {},
   "outputs": [
    {
     "name": "stdout",
     "output_type": "stream",
     "text": [
      "O cliente comprou o papel ITUB3 com a quantia de 100.\n"
     ]
    }
   ],
   "source": [
    "compra_acoes(acao = \"ITUB3\", quantidade = 100)"
   ]
  },
  {
   "cell_type": "code",
   "execution_count": 46,
   "metadata": {},
   "outputs": [],
   "source": [
    "def compra_acoes(**kwargs):\n",
    "  if 'acao' in kwargs:\n",
    "    print('O cliente comprou o papel', kwargs['acao'], ' com a quantia de', kwargs['quantidade'])\n",
    "  else:\n",
    "    print('Cliente não quis comprar ações.')"
   ]
  },
  {
   "cell_type": "code",
   "execution_count": 47,
   "metadata": {},
   "outputs": [
    {
     "name": "stdout",
     "output_type": "stream",
     "text": [
      "Cliente não quis comprar ações.\n"
     ]
    }
   ],
   "source": [
    "compra_acoes()"
   ]
  },
  {
   "cell_type": "markdown",
   "metadata": {},
   "source": [
    " **Regras gerais**\n",
    "\n",
    "1. Os argumentos que não recebem pré-definição vêm sempre antes\n",
    "\n",
    "  Por exemplo:\n",
    "\n",
    "  `def numeros (a, b, c = 1, d = 2)`\n",
    "\n",
    "\n",
    "2. Os args sempre precedem os kwargs\n",
    "\n",
    "  Por exemplo:\n",
    "\n",
    "  `def numeros (*args, **kwargs)`\n",
    "\n",
    "3. Se a função tiver tudo isso, primeiro passamos os argumentos sem valores pré-definidos, depois aqueles que possuem pré-definição, depois args e depois kwargs\n",
    "\n",
    "  Por exemplo:\n",
    "\n",
    "  `def numeros (a, b, c = 1, d = 2, *args, **kwargs)`\n",
    "\n"
   ]
  },
  {
   "cell_type": "code",
   "execution_count": 1,
   "metadata": {},
   "outputs": [],
   "source": [
    "def compra_acoes(nome, *compras, **investimentos):\n",
    "  if 'papel' in investimentos:\n",
    "    print(f\"Cliente {nome} comprou R$ {sum(compras)} em {investimentos['papel']} e foram feitas {len(compras)} operações.\")\n",
    "  else:\n",
    "    print('Cliente', nome, 'não quer comprar ações')"
   ]
  },
  {
   "cell_type": "code",
   "execution_count": 2,
   "metadata": {},
   "outputs": [
    {
     "name": "stdout",
     "output_type": "stream",
     "text": [
      "Cliente Gabriela comprou R$ 150 em PRIO3 e foram feitas 4 operações.\n"
     ]
    }
   ],
   "source": [
    "compra_acoes(\"Gabriela\", 20,30,80,20, papel = \"PRIO3\")"
   ]
  },
  {
   "cell_type": "code",
   "execution_count": 24,
   "metadata": {},
   "outputs": [],
   "source": [
    "x = \"amor\""
   ]
  },
  {
   "cell_type": "code",
   "execution_count": 26,
   "metadata": {},
   "outputs": [
    {
     "data": {
      "text/plain": [
       "'Amor'"
      ]
     },
     "execution_count": 26,
     "metadata": {},
     "output_type": "execute_result"
    }
   ],
   "source": [
    "x.capitalize()"
   ]
  }
 ],
 "metadata": {
  "kernelspec": {
   "display_name": "Python 3",
   "language": "python",
   "name": "python3"
  },
  "language_info": {
   "codemirror_mode": {
    "name": "ipython",
    "version": 3
   },
   "file_extension": ".py",
   "mimetype": "text/x-python",
   "name": "python",
   "nbconvert_exporter": "python",
   "pygments_lexer": "ipython3",
   "version": "3.11.5"
  }
 },
 "nbformat": 4,
 "nbformat_minor": 2
}
